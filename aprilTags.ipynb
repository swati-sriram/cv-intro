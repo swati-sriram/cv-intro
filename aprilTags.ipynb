{
 "cells": [
  {
   "cell_type": "code",
   "execution_count": 6,
   "metadata": {},
   "outputs": [],
   "source": [
    "import cv2\n",
    "import numpy as np\n",
    "import matplotlib.pyplot as plt\n",
    "from dt_apriltags import Detector\n",
    "from pid import PID\n"
   ]
  },
  {
   "cell_type": "code",
   "execution_count": 9,
   "metadata": {},
   "outputs": [],
   "source": [
    "def captureFrame():\n",
    "    cap = cv2.VideoCapture('AprilTagTest.mkv')\n",
    "    success = cap.grab()\n",
    "    frames = []\n",
    "    at_detector = Detector(families='tag36h11',\n",
    "                        nthreads=1,\n",
    "                        quad_decimate=1.0,\n",
    "                        quad_sigma=0.0,\n",
    "                        refine_edges=1,\n",
    "                        decode_sharpening=0.25,\n",
    "                        debug=0)\n",
    "    cameraMatrix = np.array([ 1060.71, 0, 960, 0, 1060.71, 540, 0, 0, 1]).reshape((3,3))\n",
    "    camera_params = (cameraMatrix[0,0], cameraMatrix[1,1], cameraMatrix[0,2], cameraMatrix[1,2] )\n",
    "    i=0\n",
    "    # tags[0].pose_t\n",
    "    # tags[0].pose_R\n",
    "    centers = []\n",
    "    while success:\n",
    "        i+=1\n",
    "        if i % 100  == 0:\n",
    "            _, frame = cap.retrieve()\n",
    "            frame = cv2.cvtColor(frame, cv2.COLOR_BGR2GRAY)\n",
    "            tags = at_detector.detect(frame, True, camera_params, 0.1)\n",
    "            color_img = cv2.cvtColor(frame, cv2.COLOR_GRAY2RGB)\n",
    "            for tag in tags:\n",
    "                for idx in range(len(tag.corners)):\n",
    "                    cv2.line(color_img, tuple(tag.corners[idx - 1, :].astype(int)), tuple(tag.corners[idx, :].astype(int)), (0, 255, 0))\n",
    "                    cv2.putText(color_img, str(tag.tag_id),\n",
    "                    org=(tag.corners[0, 0].astype(int) + 10, tag.corners[0, 1].astype(int) + 10),\n",
    "                    fontFace=cv2.FONT_HERSHEY_SIMPLEX,\n",
    "                    fontScale=0.8,\n",
    "                    color=(0, 0, 255))\n",
    "                (x, y) = (int(tag.center[0]), int(tag.center[1]))\n",
    "                centers.append((x,y))\n",
    "                cv2.circle(frame, (x, y), 5, (225, 0, 0), -1) # not drawing a circle :(\n",
    "            frames.append(color_img)\n",
    "            #plt.imshow(color_img)\n",
    "            #plt.pause(0.01)  # Pause for a short time to show the figure\n",
    "            #plt.clf()\n",
    "        success = cap.grab()\n",
    "    cap.release()\n",
    "    #plt.close()\n",
    "    return frames, centers"
   ]
  },
  {
   "cell_type": "code",
   "execution_count": 10,
   "metadata": {},
   "outputs": [],
   "source": [
    "def getDistance(frames, centers):  \n",
    "    height, width, layers = frames[0].shape\n",
    "    distances = np.zeros((len(centers), 2))\n",
    "    y_center = width/2\n",
    "    x_center = height/2\n",
    "    for i in range(len(centers)):\n",
    "        Xa, Ya = centers[i]\n",
    "        Cx = x_center-Xa\n",
    "        Cy = y_center-Ya\n",
    "        distances[i][0] = Cx\n",
    "        distances[i][1] = Cy\n",
    "    return distances"
   ]
  },
  {
   "cell_type": "code",
   "execution_count": 17,
   "metadata": {},
   "outputs": [
    {
     "name": "stdout",
     "output_type": "stream",
     "text": [
      "PID (X,Y)\n",
      "-17940.0 16110.0\n",
      "-8880.0 21750.0\n",
      "-20550.0 2130.0\n",
      "-1710.0 13050.0\n",
      "-19020.0 17730.0\n"
     ]
    }
   ],
   "source": [
    "pidX = PID(30, 0, 0, 100)\n",
    "pidY = PID(30, 0, 0, 100)\n",
    "frames, centers = captureFrame()\n",
    "print(\"PID (X,Y)\")\n",
    "distances = getDistance(frames, centers)\n",
    "for i in range(len(distances)):\n",
    "    output1 = pidX.update(distances[i][0])\n",
    "    output2 = pidY.update(distances[i][1])\n",
    "    print(output1, output2)\n"
   ]
  }
 ],
 "metadata": {
  "kernelspec": {
   "display_name": "bluecv",
   "language": "python",
   "name": "python3"
  },
  "language_info": {
   "codemirror_mode": {
    "name": "ipython",
    "version": 3
   },
   "file_extension": ".py",
   "mimetype": "text/x-python",
   "name": "python",
   "nbconvert_exporter": "python",
   "pygments_lexer": "ipython3",
   "version": "3.9.2"
  },
  "orig_nbformat": 4
 },
 "nbformat": 4,
 "nbformat_minor": 2
}
